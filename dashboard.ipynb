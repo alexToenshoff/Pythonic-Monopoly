{
 "cells": [
  {
   "cell_type": "markdown",
   "metadata": {},
   "source": [
    "# San Francisco Rental Prices Dashboard\n",
    "\n",
    "In this notebook, you will compile the visualizations from the previous analysis into functions that can be used for a Panel dashboard."
   ]
  },
  {
   "cell_type": "code",
   "execution_count": 1,
   "metadata": {},
   "outputs": [
    {
     "ename": "ModuleNotFoundError",
     "evalue": "No module named 'panel'",
     "output_type": "error",
     "traceback": [
      "\u001b[1;31m---------------------------------------------------------------------------\u001b[0m",
      "\u001b[1;31mModuleNotFoundError\u001b[0m                       Traceback (most recent call last)",
      "\u001b[1;32m<ipython-input-1-2a2a9a35167e>\u001b[0m in \u001b[0;36m<module>\u001b[1;34m\u001b[0m\n\u001b[0;32m      1\u001b[0m \u001b[1;31m# imports\u001b[0m\u001b[1;33m\u001b[0m\u001b[1;33m\u001b[0m\u001b[1;33m\u001b[0m\u001b[0m\n\u001b[1;32m----> 2\u001b[1;33m \u001b[1;32mimport\u001b[0m \u001b[0mpanel\u001b[0m \u001b[1;32mas\u001b[0m \u001b[0mpn\u001b[0m\u001b[1;33m\u001b[0m\u001b[1;33m\u001b[0m\u001b[0m\n\u001b[0m\u001b[0;32m      3\u001b[0m \u001b[0mpn\u001b[0m\u001b[1;33m.\u001b[0m\u001b[0mextension\u001b[0m\u001b[1;33m(\u001b[0m\u001b[1;34m'plotly'\u001b[0m\u001b[1;33m)\u001b[0m\u001b[1;33m\u001b[0m\u001b[1;33m\u001b[0m\u001b[0m\n\u001b[0;32m      4\u001b[0m \u001b[1;32mimport\u001b[0m \u001b[0mplotly\u001b[0m\u001b[1;33m.\u001b[0m\u001b[0mexpress\u001b[0m \u001b[1;32mas\u001b[0m \u001b[0mpx\u001b[0m\u001b[1;33m\u001b[0m\u001b[1;33m\u001b[0m\u001b[0m\n\u001b[0;32m      5\u001b[0m \u001b[1;32mimport\u001b[0m \u001b[0mpandas\u001b[0m \u001b[1;32mas\u001b[0m \u001b[0mpd\u001b[0m\u001b[1;33m\u001b[0m\u001b[1;33m\u001b[0m\u001b[0m\n",
      "\u001b[1;31mModuleNotFoundError\u001b[0m: No module named 'panel'"
     ]
    }
   ],
   "source": [
    "# imports\n",
    "import panel as pn\n",
    "pn.extension('plotly')\n",
    "import plotly.express as px\n",
    "import pandas as pd\n",
    "import hvplot.pandas\n",
    "import matplotlib.pyplot as plt\n",
    "import os\n",
    "from pathlib import Path\n",
    "from dotenv import load_dotenv"
   ]
  },
  {
   "cell_type": "code",
   "execution_count": 2,
   "metadata": {},
   "outputs": [
    {
     "ename": "NameError",
     "evalue": "name 'load_dotenv' is not defined",
     "output_type": "error",
     "traceback": [
      "\u001b[1;31m---------------------------------------------------------------------------\u001b[0m",
      "\u001b[1;31mNameError\u001b[0m                                 Traceback (most recent call last)",
      "\u001b[1;32m<ipython-input-2-d97b01563033>\u001b[0m in \u001b[0;36m<module>\u001b[1;34m\u001b[0m\n\u001b[0;32m      1\u001b[0m \u001b[1;31m# Read the Mapbox API key\u001b[0m\u001b[1;33m\u001b[0m\u001b[1;33m\u001b[0m\u001b[1;33m\u001b[0m\u001b[0m\n\u001b[1;32m----> 2\u001b[1;33m \u001b[0mload_dotenv\u001b[0m\u001b[1;33m(\u001b[0m\u001b[1;33m)\u001b[0m\u001b[1;33m\u001b[0m\u001b[1;33m\u001b[0m\u001b[0m\n\u001b[0m\u001b[0;32m      3\u001b[0m \u001b[0mmap_box_api\u001b[0m \u001b[1;33m=\u001b[0m \u001b[0mos\u001b[0m\u001b[1;33m.\u001b[0m\u001b[0mgetenv\u001b[0m\u001b[1;33m(\u001b[0m\u001b[1;34m\"mapbox\"\u001b[0m\u001b[1;33m)\u001b[0m\u001b[1;33m\u001b[0m\u001b[1;33m\u001b[0m\u001b[0m\n\u001b[0;32m      4\u001b[0m \u001b[0mpx\u001b[0m\u001b[1;33m.\u001b[0m\u001b[0mset_mapbox_access_token\u001b[0m\u001b[1;33m(\u001b[0m\u001b[0mmap_box_api\u001b[0m\u001b[1;33m)\u001b[0m\u001b[1;33m\u001b[0m\u001b[1;33m\u001b[0m\u001b[0m\n",
      "\u001b[1;31mNameError\u001b[0m: name 'load_dotenv' is not defined"
     ]
    }
   ],
   "source": [
    "# Read the Mapbox API key\n",
    "load_dotenv()\n",
    "map_box_api = os.getenv(\"mapbox\")\n",
    "px.set_mapbox_access_token(map_box_api)"
   ]
  },
  {
   "cell_type": "markdown",
   "metadata": {},
   "source": [
    "# Import Data"
   ]
  },
  {
   "cell_type": "code",
   "execution_count": null,
   "metadata": {},
   "outputs": [],
   "source": [
    " # Import the CSVs to Pandas DataFrames\n",
    "file_path = Path(\"Data/sfo_neighborhoods_census_data.csv\")\n",
    "sfo_data = pd.read_csv(file_path, index_col=\"year\")\n",
    "\n",
    "file_path = Path(\"Data/neighborhoods_coordinates.csv\")\n",
    "df_neighborhood_locations = pd.read_csv(file_path)"
   ]
  },
  {
   "cell_type": "markdown",
   "metadata": {},
   "source": [
    "- - -"
   ]
  },
  {
   "cell_type": "markdown",
   "metadata": {},
   "source": [
    "## Panel Visualizations\n",
    "\n",
    "In this section, you will copy the code for each plot type from your analysis notebook and place it into separate functions that Panel can use to create panes for the dashboard. \n",
    "\n",
    "These functions will convert the plot object to a Panel pane.\n",
    "\n",
    "Be sure to include any DataFrame transformation/manipulation code required along with the plotting code.\n",
    "\n",
    "Return a Panel pane object from each function that can be used to build the dashboard.\n",
    "\n",
    "Note: Remove any `.show()` lines from the code. We want to return the plots instead of showing them. The Panel dashboard will then display the plots."
   ]
  },
  {
   "cell_type": "code",
   "execution_count": null,
   "metadata": {},
   "outputs": [],
   "source": [
    "# Define Panel Visualization Functions\n",
    "def housing_units_per_year():\n",
    "    \"\"\"Housing Units Per Year.\"\"\"\n",
    "    \n",
    "    df_housing_units = sfo_data[\"housing_units\"].groupby(sfo_data.index).mean()\n",
    "    \n",
    "    fig_housing_units = plt.figure()\n",
    "    plot_housing_units = df_housing_units.plot.bar()\n",
    "    plot_housing_units.set_xlabel(\"Year\", fontsize=12)\n",
    "    plot_housing_units.set_ylabel(\"Housing Units\", fontsize=12)\n",
    "    plot_housing_units.set_title(\n",
    "        \"Housing Units in San Francisco from 2010 to 2016\", fontsize=14, fontweight=\"bold\"\n",
    "    )\n",
    "\n",
    "\n",
    "def average_gross_rent():\n",
    "    \"\"\"Average Gross Rent in San Francisco Per Year.\"\"\"\n",
    "    df_avg_costs = (\n",
    "        sfo_data[[\"sale_price_sqr_foot\", \"gross_rent\"]]\n",
    "        .groupby(sfo_data.index)\n",
    "        .mean()\n",
    "    )\n",
    "    \n",
    "    fig_avg_gross_rent = plt.figure()\n",
    "    plot_avg_gross_rent = df_avg_costs[\"gross_rent\"].plot(color=\"red\")\n",
    "    plot_avg_gross_rent.set_xlabel(\"Year\", fontsize=12)\n",
    "    plot_avg_gross_rent.set_ylabel(\"Gross Rent\", fontsize=12)\n",
    "    plot_avg_gross_rent.set_title(\n",
    "        \"Average Gross Rent in San Francisco\", fontsize=14, fontweight=\"bold\"\n",
    "    )\n",
    "    plt.close(fig_avg_gross_rent)\n",
    "    return pn.pane.Matplotlib(fig_avg_gross_rent, tight=True)\n",
    "\n",
    "\n",
    "\n",
    "def average_sales_price():\n",
    "    \"\"\"Average Sales Price Per Year.\"\"\"\n",
    "    \n",
    "    df_avg_costs = (\n",
    "        sfo_data[[\"sale_price_sqr_foot\", \"gross_rent\"]]\n",
    "        .groupby(sfo_data.index)\n",
    "        .mean()\n",
    "    )    \n",
    "    \n",
    "    fig_avg_sale_price = plt.figure()\n",
    "    plot_avg_sale_price = df_avg_costs[\"sale_price_sqr_foot\"].plot(color=\"purple\")\n",
    "    plot_avg_sale_price.set_xlabel(\"Year\", fontsize=12)\n",
    "    plot_avg_sale_price.set_ylabel(\"Avg. Sale Price\", fontsize=12)\n",
    "    plot_avg_sale_price.set_title(\n",
    "        \"Average Sale Price per Square Foot\", fontsize=14, fontweight=\"bold\"\n",
    "    )\n",
    "    plt.close(fig_avg_sale_price)\n",
    "    return pn.pane.Matplotlib(fig_avg_sale_price, tight=True)\n",
    "\n",
    "\n",
    "\n",
    "\n",
    "def average_price_by_neighborhood():\n",
    "    \"\"\"Average Prices by Neighborhood.\"\"\"\n",
    "    \n",
    "    df_costs = sfo_data.groupby([sfo_data.index, \"neighborhood\"]).mean()\n",
    "    df_costs.reset_index(inplace=True)\n",
    "    df_costs.rename(columns={\"level_0\": \"year\"}, inplace=True)\n",
    "    \n",
    "    sale_price_curve = df_costs.hvplot.line(\n",
    "        \"year\",\n",
    "        \"sale_price_sqr_foot\",\n",
    "        xlabel=\"Year\",\n",
    "        ylabel=\"Avg. Sale Price per Square Foot\",\n",
    "        groupby=\"neighborhood\",\n",
    "    )\n",
    "    return sale_price_curve\n",
    "\n",
    "\n",
    "\n",
    "def top_most_expensive_neighborhoods():\n",
    "    \"\"\"Top 10 Most Expensive Neighborhoods.\"\"\"\n",
    "\n",
    "    df_expensive_neighborhoods = sfo_data.groupby(by=\"neighborhood\").mean()\n",
    "    df_expensive_neighborhoods = df_expensive_neighborhoods.sort_values(\n",
    "        by=\"sale_price_sqr_foot\", ascending=False\n",
    "    ).head(10)\n",
    "    df_expensive_neighborhoods = df_expensive_neighborhoods.reset_index()\n",
    "\n",
    "    expensive_neighborhoods = df_expensive_neighborhoods.hvplot.bar(\n",
    "        \"neighborhood\",\n",
    "        \"sale_price_sqr_foot\",\n",
    "        title=\"Top 10 Expensive Neighborhoods in SFO\",\n",
    "        xlabel=\"Neighborhood\",\n",
    "        ylabel=\"Avg. Sale Price per Square Foot\",\n",
    "        height=400,\n",
    "        rot=90,\n",
    "    )\n",
    "    return expensive_neighborhoods\n",
    "\n",
    "\n",
    "def most_expensive_neighborhoods_rent_sales():\n",
    "    df_costs = sfo_data.groupby([sfo_data.index, \"neighborhood\"]).mean()\n",
    "    df_costs.reset_index(inplace=True)\n",
    "    df_costs.rename(columns={\"level_0\": \"year\"}, inplace=True)\n",
    "    \n",
    "    rent_sales_plot = df_costs.hvplot.bar(\n",
    "    \"year\",\n",
    "    [\"gross_rent\",\"sale_price_sqr_foot\"],\n",
    "    title=\"Top 10 Expensive Neighborhoods in SFO\",\n",
    "    xlabel=\"Neighborhood\",\n",
    "    ylabel=\"Num Housing Units\",\n",
    "    groupby='neighborhood',\n",
    "    height=500,\n",
    "    rot=90)\n",
    "    return rent_sales_plot\n",
    "\n",
    "    \n",
    "    \n",
    "def parallel_coordinates():\n",
    "    \"\"\"Parallel Coordinates Plot.\"\"\"\n",
    "\n",
    "    df_expensive_neighborhoods = sfo_data.groupby(by=\"neighborhood\").mean()\n",
    "    df_expensive_neighborhoods = df_expensive_neighborhoods.sort_values(\n",
    "        by=\"sale_price_sqr_foot\", ascending=False\n",
    "    ).head(10)\n",
    "    df_expensive_neighborhoods = df_expensive_neighborhoods.reset_index()\n",
    "    \n",
    "    expensive_coordinates_plot = px.parallel_coordinates(\n",
    "        df_expensive_neighborhoods,\n",
    "        color=\"sale_price_sqr_foot\",\n",
    "        color_continuous_scale=px.colors.sequential.Inferno,\n",
    "        title=\"Parallel Coordinates Analysis of Most Expensive San Francisco Neighborhoods\"\n",
    "    )\n",
    "    return expensive_coordinates_plot\n",
    "\n",
    "\n",
    "\n",
    "def parallel_categories():\n",
    "    \"\"\"Parallel Categories Plot.\"\"\"\n",
    "    \n",
    "    df_expensive_neighborhoods = sfo_data.groupby(by=\"neighborhood\").mean()\n",
    "    df_expensive_neighborhoods = df_expensive_neighborhoods.sort_values(\n",
    "        by=\"sale_price_sqr_foot\", ascending=False\n",
    "    ).head(10)\n",
    "    df_expensive_neighborhoods = df_expensive_neighborhoods.reset_index()\n",
    "    \n",
    "    expensive_categories_plot = px.parallel_categories(\n",
    "        df_expensive_neighborhoods,\n",
    "        color=\"sale_price_sqr_foot\",\n",
    "        color_continuous_scale=px.colors.sequential.Inferno,\n",
    "        title=\"Parallel Categories Analysis of Most Expensive San Francisco Neighborhoods\"\n",
    "    )\n",
    "    return expensive_categories_plot\n",
    "\n",
    "\n",
    "def neighborhood_map():\n",
    "    \"\"\"Neighborhood Map\"\"\"\n",
    "    px.set_mapbox_access_token(map_box_api)\n",
    "    \n",
    "    df_all_neighborhoods = sfo_data.groupby(by=\"neighborhood\").mean()\n",
    "    df_all_neighborhoods.reset_index(inplace=True)\n",
    "    df_all_neighborhoods.rename(columns={\"neighborhood\": \"Neighborhood\"}, inplace=True)\n",
    "\n",
    "    df_all_neighborhoods = pd.merge(\n",
    "        df_neighborhood_locations, df_all_neighborhoods, on=\"Neighborhood\"\n",
    "    )\n",
    "\n",
    "    neighborhood_map = px.scatter_mapbox(\n",
    "        df_all_neighborhoods,\n",
    "        lat=\"Lat\",\n",
    "        lon=\"Lon\",\n",
    "        size=\"sale_price_sqr_foot\",\n",
    "        color=\"gross_rent\",\n",
    "        color_continuous_scale=px.colors.cyclical.IceFire,\n",
    "        size_max=15,\n",
    "        zoom=11,\n",
    "        hover_name=\"Neighborhood\",\n",
    "        title=\"Average Sale Price Per Square Foot and Gross Rent in San Francisco\",\n",
    "    )\n",
    "    plotly_panel = pn.pane.Plotly(neighborhood_map)\n",
    "    plotly_panel._updates = True\n",
    "    return plotly_panel\n",
    "\n",
    "\n",
    "def sunburst():\n",
    "    df_costs = sfo_data.groupby([sfo_data.index, \"neighborhood\"]).mean()\n",
    "    df_costs.reset_index(inplace=True)\n",
    "    df_costs.rename(columns={\"level_0\": \"year\"}, inplace=True)\n",
    "    df_expensive_neighborhoods = sfo_data.groupby(by=\"neighborhood\").mean()\n",
    "    df_expensive_neighborhoods = df_expensive_neighborhoods.sort_values(\n",
    "        by=\"sale_price_sqr_foot\", ascending=False\n",
    "    ).head(10)\n",
    "    df_expensive_neighborhoods = df_expensive_neighborhoods.reset_index()\n",
    "    df_expensive_neighborhoods_per_year = df_costs[df_costs[\"neighborhood\"].isin(df_expensive_neighborhoods[\"neighborhood\"])]\n",
    "    fig_sunburst = px.sunburst(\n",
    "        df_expensive_neighborhoods_per_year,\n",
    "        path=[\"year\", \"neighborhood\"],\n",
    "        values='sale_price_sqr_foot',\n",
    "        color='gross_rent', \n",
    "        color_continuous_scale='Blues',\n",
    "        title=\"Costs Analysis of Most Expensive neighborhoods in San Francisco per Year\",\n",
    "        height=700)\n",
    "    plotly_panel_sunburst = pn.pane.Plotly(fig_sunburst)\n",
    "    plotly_panel_sunburst._updates = True\n",
    "    return plotly_panel_sunburst"
   ]
  },
  {
   "cell_type": "markdown",
   "metadata": {},
   "source": [
    "## Panel Dashboard\n",
    "\n",
    "In this section, you will combine all of the plots into a single dashboard view using Panel. Be creative with your dashboard design!"
   ]
  },
  {
   "cell_type": "code",
   "execution_count": null,
   "metadata": {},
   "outputs": [],
   "source": [
    "# Create a Title for the Dashboard\n",
    "title = pn.pane.Markdown(\n",
    "    \"\"\"\n",
    "# Real Estate Analysis of San Francisco from 2010 to 2016\n",
    "\"\"\",\n",
    "    width=800,\n",
    ")\n",
    "\n",
    "welcome = pn.pane.Markdown(\n",
    "    \"\"\"\n",
    "This dashboard presents a visual analysis of historical prices of house units,\n",
    "sale price per square foot and gross rent in San Francisco, California\n",
    "from 2010 to 2016.\n",
    "You can navigate through the tabs above to explore\n",
    "more details about the evolution of the real estate market on\n",
    "The Golden City across these years.\n",
    "\"\"\"\n",
    ")\n",
    "\n",
    "# Create a tab layout for the dashboard\n",
    "tabs = pn.Tabs(\n",
    "    (\"Welcome\", pn.Column(welcome, neighborhood_map())),\n",
    "    (\"Yearly Market Analysis\", pn.Row(housing_units_per_year(), average_gross_rent(), average_sales_price())),\n",
    "    (\"Neighborhood Analysis\", pn.Column(average_price_by_neighborhood(), top_most_expensive_neighborhoods(), most_expensive_neighborhoods_rent_sales())),\n",
    "    (\"Parallel Plots Analysis\", pn.Column(parallel_coordinates(), parallel_categories(),width=960)),\n",
    "    (\"Sunburst Plot Analysis\", pn.Column(sunburst())),\n",
    "    )\n",
    "\n",
    "dashboard = pn.Column(pn.Row(title), tabs, width=900)"
   ]
  },
  {
   "cell_type": "markdown",
   "metadata": {},
   "source": [
    "## Serve the Panel Dashboard"
   ]
  },
  {
   "cell_type": "code",
   "execution_count": null,
   "metadata": {},
   "outputs": [],
   "source": [
    "# Serve the# dashboard\n",
    "dashboard.servable()"
   ]
  },
  {
   "cell_type": "markdown",
   "metadata": {},
   "source": [
    "# Debugging\n",
    "\n",
    "Note: Some of the Plotly express plots may not render in the notebook through the panel functions.\n",
    "\n",
    "However, you can test each plot by uncommenting the following code"
   ]
  },
  {
   "cell_type": "code",
   "execution_count": null,
   "metadata": {},
   "outputs": [],
   "source": [
    "# housing_units_per_year()"
   ]
  },
  {
   "cell_type": "code",
   "execution_count": null,
   "metadata": {},
   "outputs": [],
   "source": [
    "# average_gross_rent()"
   ]
  },
  {
   "cell_type": "code",
   "execution_count": null,
   "metadata": {},
   "outputs": [],
   "source": [
    "# average_sales_price()"
   ]
  },
  {
   "cell_type": "code",
   "execution_count": null,
   "metadata": {},
   "outputs": [],
   "source": [
    "# average_price_by_neighborhood()"
   ]
  },
  {
   "cell_type": "code",
   "execution_count": null,
   "metadata": {},
   "outputs": [],
   "source": [
    "# top_most_expensive_neighborhoods()"
   ]
  },
  {
   "cell_type": "code",
   "execution_count": null,
   "metadata": {},
   "outputs": [],
   "source": [
    "# most_expensive_neighborhoods_rent_sales()"
   ]
  },
  {
   "cell_type": "code",
   "execution_count": null,
   "metadata": {},
   "outputs": [],
   "source": [
    "# neighborhood_map().show()"
   ]
  },
  {
   "cell_type": "code",
   "execution_count": null,
   "metadata": {},
   "outputs": [],
   "source": [
    "# parallel_categories()"
   ]
  },
  {
   "cell_type": "code",
   "execution_count": null,
   "metadata": {},
   "outputs": [],
   "source": [
    "# parallel_coordinates()"
   ]
  },
  {
   "cell_type": "code",
   "execution_count": null,
   "metadata": {},
   "outputs": [],
   "source": [
    "# sunburst()"
   ]
  },
  {
   "cell_type": "code",
   "execution_count": null,
   "metadata": {},
   "outputs": [],
   "source": []
  }
 ],
 "metadata": {
  "file_extension": ".py",
  "kernelspec": {
   "display_name": "Python [conda env:alpacaenv]",
   "language": "python",
   "name": "conda-env-alpacaenv-py"
  },
  "language_info": {
   "codemirror_mode": {
    "name": "ipython",
    "version": 3
   },
   "file_extension": ".py",
   "mimetype": "text/x-python",
   "name": "python",
   "nbconvert_exporter": "python",
   "pygments_lexer": "ipython3",
   "version": "3.7.10"
  },
  "mimetype": "text/x-python",
  "name": "python",
  "npconvert_exporter": "python",
  "pygments_lexer": "ipython3",
  "version": 3
 },
 "nbformat": 4,
 "nbformat_minor": 4
}
